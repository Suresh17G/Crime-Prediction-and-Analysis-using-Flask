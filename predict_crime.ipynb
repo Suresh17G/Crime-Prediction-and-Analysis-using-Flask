{
  "cells": [
    {
      "cell_type": "code",
      "execution_count": 1,
      "metadata": {
        "id": "UkUf0DU_bWuE"
      },
      "outputs": [],
      "source": [
        "import numpy as np\n",
        "import pickle\n",
        "import pandas as pd\n",
        "from sklearn.metrics import accuracy_score\n",
        "from sklearn.preprocessing import MinMaxScaler,LabelEncoder\n",
        "from keras.models import Sequential\n",
        "from keras.layers import LSTM, Dense\n",
        "from sklearn.cluster import KMeans"
      ]
    },
    {
      "cell_type": "code",
      "execution_count": null,
      "metadata": {
        "id": "ssIgt-CdbfMR"
      },
      "outputs": [],
      "source": [
        "# Load and preprocess the crime data\n",
        "crime_data = pd.read_excel(\"crime_data_2001_2014.xlsx\")\n",
        "crime_data=crime_data.rename(columns={'KIDNAPPING & ABDUCTION':'KIDNAPPING'})\n",
        "crime_data=crime_data.rename(columns={'DOWRY DEATHS':'DOWRY_DEATHS'})\n",
        "crime_data=crime_data.rename(columns={'OTHER CRIMES':'OTHER_CRIMES'})\n",
        "crime_data=crime_data.rename(columns={'TOTAL IPC CRIMES':'TOTAL_CRIMES'})\n",
        "crime_data"
      ]
    },
    {
      "cell_type": "code",
      "source": [
        "# Split the data into training and testing sets\n",
        "train_size = int(len(crime_data) * 0.9)\n",
        "test_size = len(crime_data) - train_size\n",
        "train_data,test_data=crime_data[:train_size],crime_data[:test_size]"
      ],
      "metadata": {
        "id": "hBzseAtjSSoY"
      },
      "execution_count": 63,
      "outputs": []
    },
    {
      "cell_type": "code",
      "source": [
        "#Split train data into input and output variables\n",
        "#Divide input into categorical and numerical features for scaling\n",
        "x_train_s=train_data.iloc[:,0].values\n",
        "x_train_d=train_data.iloc[:,1].values\n",
        "x_train_n=train_data.iloc[:,2].values\n",
        "y_train=train_data.iloc[:,3:].values"
      ],
      "metadata": {
        "id": "Vo0o3b30BwjK"
      },
      "execution_count": 64,
      "outputs": []
    },
    {
      "cell_type": "code",
      "source": [
        "#Split test data into input and output variables\n",
        "#Divide input into categorical and numerical features for scaling\n",
        "x_test_s=test_data.iloc[:,0].values\n",
        "x_test_d=test_data.iloc[:,1].values\n",
        "x_test_n=test_data.iloc[:,2].values\n",
        "y_test=test_data.iloc[:,3:].values\n"
      ],
      "metadata": {
        "id": "J93fYx-8CfUO"
      },
      "execution_count": 65,
      "outputs": []
    },
    {
      "cell_type": "code",
      "source": [
        "print(x_train_s.ndim)\n",
        "print(x_train_d.ndim)\n",
        "print(x_train_n.ndim)"
      ],
      "metadata": {
        "colab": {
          "base_uri": "https://localhost:8080/"
        },
        "id": "HNFhzHrims30",
        "outputId": "d49e34ae-5d25-4fa0-cbae-2ee3e0da79e6"
      },
      "execution_count": 66,
      "outputs": [
        {
          "output_type": "stream",
          "name": "stdout",
          "text": [
            "1\n",
            "1\n",
            "1\n"
          ]
        }
      ]
    },
    {
      "cell_type": "code",
      "source": [
        "#Label coding for state categorical features\n",
        "state_encoder= LabelEncoder()\n",
        "state_encoder.fit(x_train_s)\n",
        "x_train_s=state_encoder.transform(x_train_s)\n",
        "x_test_s=state_encoder.transform(x_test_s)"
      ],
      "metadata": {
        "id": "tjoYbhi5dEKS"
      },
      "execution_count": 67,
      "outputs": []
    },
    {
      "cell_type": "code",
      "source": [
        "print(x_train_s.ndim)\n",
        "print(x_train_d.ndim)\n",
        "print(x_train_n.ndim)"
      ],
      "metadata": {
        "colab": {
          "base_uri": "https://localhost:8080/"
        },
        "id": "vVLyy5bimwJj",
        "outputId": "e245b6f5-0792-4842-ba2d-33e38661b5e6"
      },
      "execution_count": 68,
      "outputs": [
        {
          "output_type": "stream",
          "name": "stdout",
          "text": [
            "1\n",
            "1\n",
            "1\n"
          ]
        }
      ]
    },
    {
      "cell_type": "code",
      "source": [
        "x_train_d"
      ],
      "metadata": {
        "colab": {
          "base_uri": "https://localhost:8080/"
        },
        "id": "BfZPJVSEiNDD",
        "outputId": "0db44321-e83c-48d3-99d6-cbf9e3e1fd58"
      },
      "execution_count": 52,
      "outputs": [
        {
          "output_type": "execute_result",
          "data": {
            "text/plain": [
              "array(['ADILABAD', 'ANANTAPUR', 'CHITTOOR', ..., 'NAYAGARH', 'NOWRANGPUR',\n",
              "       'NUAPADA'], dtype=object)"
            ]
          },
          "metadata": {},
          "execution_count": 52
        }
      ]
    },
    {
      "cell_type": "code",
      "source": [
        "#Label coding for district categorical features\n",
        "district_encoder= LabelEncoder()\n",
        "district_encoder.fit(x_train_d)\n",
        "x_train_d=district_encoder.transform(x_train_d)\n",
        "x_test_d=district_encoder.transform(x_test_d)"
      ],
      "metadata": {
        "id": "73Z5OfSceAIk"
      },
      "execution_count": 69,
      "outputs": []
    },
    {
      "cell_type": "code",
      "source": [
        "print(x_train_s.ndim)\n",
        "print(x_train_d.ndim)\n",
        "print(x_train_n.ndim)"
      ],
      "metadata": {
        "colab": {
          "base_uri": "https://localhost:8080/"
        },
        "id": "c1g2_bS-mzWM",
        "outputId": "f5334410-3f47-4655-8c3a-4db0c63bddfd"
      },
      "execution_count": 70,
      "outputs": [
        {
          "output_type": "stream",
          "name": "stdout",
          "text": [
            "1\n",
            "1\n",
            "1\n"
          ]
        }
      ]
    },
    {
      "cell_type": "code",
      "source": [
        "district_encoder.transform(['CHENNAI'])"
      ],
      "metadata": {
        "colab": {
          "base_uri": "https://localhost:8080/"
        },
        "id": "6k6RuZ0ViLSg",
        "outputId": "708a745d-a758-43c2-e0d0-1824fd67224c"
      },
      "execution_count": 54,
      "outputs": [
        {
          "output_type": "execute_result",
          "data": {
            "text/plain": [
              "array([146])"
            ]
          },
          "metadata": {},
          "execution_count": 54
        }
      ]
    },
    {
      "cell_type": "code",
      "source": [
        "# Save the stateEncoder object to a file\n",
        "with open('state_encoder.pkl', 'wb') as file:\n",
        "    pickle.dump(state_encoder, file)"
      ],
      "metadata": {
        "id": "BWHK7ZHI1VWb"
      },
      "execution_count": 55,
      "outputs": []
    },
    {
      "cell_type": "code",
      "source": [
        "# Save the stateEncoder object to a file\n",
        "with open('district_encoder.pkl', 'wb') as file:\n",
        "    pickle.dump(district_encoder, file)"
      ],
      "metadata": {
        "id": "f3RrVjwkee5v"
      },
      "execution_count": 56,
      "outputs": []
    },
    {
      "cell_type": "code",
      "source": [
        "# Reshape the 1D array into a 2D array with a single column\n",
        "x_train_n= np.array(x_train_n).reshape(-1, 1)\n",
        "x_test_n= np.array(x_test_n).reshape(-1, 1)\n",
        "x_train_s= np.array(x_train_s).reshape(-1, 1)\n",
        "x_test_s= np.array(x_test_s).reshape(-1, 1)\n",
        "x_train_d= np.array(x_train_d).reshape(-1, 1)\n",
        "x_test_d= np.array(x_test_d).reshape(-1, 1)"
      ],
      "metadata": {
        "id": "_92fHqKnM4aT"
      },
      "execution_count": 57,
      "outputs": []
    },
    {
      "cell_type": "code",
      "source": [],
      "metadata": {
        "id": "zklVgIrAkOPo"
      },
      "execution_count": null,
      "outputs": []
    },
    {
      "cell_type": "code",
      "source": [
        "#Normalize the numerical feature in input using minmaxscaler\n",
        "num_scaler = MinMaxScaler(feature_range=(0, 1))\n",
        "num_scaler.fit(x_train_n)\n",
        "x_train_n=num_scaler.transform(x_train_n)\n",
        "x_test_n=num_scaler.transform(x_test_n)"
      ],
      "metadata": {
        "id": "9Sz86LEe_f6a"
      },
      "execution_count": 58,
      "outputs": []
    },
    {
      "cell_type": "code",
      "source": [
        "# Save the scaler parameters to a numpy file\n",
        "np.save('input_scaler.npy', [num_scaler.min_, num_scaler.scale_])"
      ],
      "metadata": {
        "id": "x5AM1UJ42WqE"
      },
      "execution_count": 59,
      "outputs": []
    },
    {
      "cell_type": "code",
      "source": [
        "print(x_train_s.ndim)\n",
        "print(x_train_d.ndim)\n",
        "print(x_train_n.ndim)"
      ],
      "metadata": {
        "colab": {
          "base_uri": "https://localhost:8080/"
        },
        "id": "GBSU2eSRmFEe",
        "outputId": "f75dbf35-b8db-4b0d-9fc9-395efc29a8a3"
      },
      "execution_count": 60,
      "outputs": [
        {
          "output_type": "stream",
          "name": "stdout",
          "text": [
            "2\n",
            "2\n",
            "2\n"
          ]
        }
      ]
    },
    {
      "cell_type": "code",
      "source": [
        "x_train=np.concatenate((x_train_s,x_train_d,x_train_n), axis=1)\n",
        "x_test=np.concatenate((x_test_s,x_test_d,x_test_n), axis=1)"
      ],
      "metadata": {
        "id": "aXb9kKlbOM5Q"
      },
      "execution_count": 61,
      "outputs": []
    },
    {
      "cell_type": "code",
      "source": [
        "#Normalize the numerical feature in output using minmaxscaler\n",
        "result_scaler = MinMaxScaler(feature_range=(0, 1))\n",
        "result_scaler.fit(y_train)\n",
        "y_train=result_scaler.transform(y_train)\n",
        "y_test=result_scaler.transform(y_test)"
      ],
      "metadata": {
        "id": "hO0D-F12_LBV"
      },
      "execution_count": 27,
      "outputs": []
    },
    {
      "cell_type": "code",
      "source": [
        "# Save the scaler parameters to a numpy file\n",
        "np.save('scaler_params.npy', [result_scaler.min_, result_scaler.scale_])"
      ],
      "metadata": {
        "id": "UmpJmUmDzQN_"
      },
      "execution_count": 28,
      "outputs": []
    },
    {
      "cell_type": "code",
      "source": [
        "# Reshape the input data to fit the LSTM model\n",
        "x_train = np.reshape(x_train, (x_train.shape[0],1,x_train.shape[1]))\n",
        "x_test = np.reshape(x_test, (x_test.shape[0],1,x_test.shape[1]))"
      ],
      "metadata": {
        "id": "H94NBc12SwE_"
      },
      "execution_count": 29,
      "outputs": []
    },
    {
      "cell_type": "code",
      "source": [],
      "metadata": {
        "colab": {
          "base_uri": "https://localhost:8080/"
        },
        "id": "rz5sLIX_kPjX",
        "outputId": "af51bb35-5420-4511-cf4e-ef8ee20938bf"
      },
      "execution_count": 43,
      "outputs": [
        {
          "output_type": "execute_result",
          "data": {
            "text/plain": [
              "(1061, 3)"
            ]
          },
          "metadata": {},
          "execution_count": 43
        }
      ]
    },
    {
      "cell_type": "code",
      "source": [
        "# Build the LSTM model\n",
        "model = Sequential()\n",
        "model.add(LSTM(50, input_shape=(x_train.shape[1],x_train.shape[2])))\n",
        "model.add(Dense(7))\n",
        "model.compile(loss='mean_squared_error', optimizer='adam')"
      ],
      "metadata": {
        "id": "C_lZIy8ISv6D"
      },
      "execution_count": 30,
      "outputs": []
    },
    {
      "cell_type": "code",
      "source": [
        "y_train"
      ],
      "metadata": {
        "colab": {
          "base_uri": "https://localhost:8080/"
        },
        "id": "L_cyuveM0AFv",
        "outputId": "2fa320d7-8367-43b8-c3d5-a44f9cf26644"
      },
      "execution_count": null,
      "outputs": [
        {
          "output_type": "execute_result",
          "data": {
            "text/plain": [
              "array([[0.01034372, 0.01153403, 0.00518135, ..., 0.00689061, 0.0194925 ,\n",
              "        0.01772298],\n",
              "       [0.01773209, 0.00530565, 0.00596981, ..., 0.00301464, 0.01807713,\n",
              "        0.01759925],\n",
              "       [0.01015098, 0.00622837, 0.00664564, ..., 0.00602929, 0.02596359,\n",
              "        0.02482241],\n",
              "       ...,\n",
              "       [0.01143591, 0.00692042, 0.00619509, ..., 0.00559862, 0.00558223,\n",
              "        0.00648506],\n",
              "       [0.00276261, 0.01545559, 0.0079973 , ..., 0.        , 0.00700892,\n",
              "        0.00657892],\n",
              "       [0.00404754, 0.00553633, 0.00551926, ..., 0.00301464, 0.00446691,\n",
              "        0.0046078 ]])"
            ]
          },
          "metadata": {},
          "execution_count": 304
        }
      ]
    },
    {
      "cell_type": "code",
      "source": [
        "# Train the model\n",
        "model.fit(x_train, y_train, epochs=50, batch_size=32, verbose=1)"
      ],
      "metadata": {
        "colab": {
          "base_uri": "https://localhost:8080/"
        },
        "id": "vJDErT8uSvs9",
        "outputId": "6eb74d7e-6318-4c85-e87b-4912f120e81b"
      },
      "execution_count": null,
      "outputs": [
        {
          "output_type": "stream",
          "name": "stdout",
          "text": [
            "Epoch 1/50\n",
            "299/299 [==============================] - 3s 3ms/step - loss: 0.0170\n",
            "Epoch 2/50\n",
            "299/299 [==============================] - 1s 3ms/step - loss: 0.0032\n",
            "Epoch 3/50\n",
            "299/299 [==============================] - 1s 2ms/step - loss: 0.0031\n",
            "Epoch 4/50\n",
            "299/299 [==============================] - 1s 3ms/step - loss: 0.0031\n",
            "Epoch 5/50\n",
            "299/299 [==============================] - 1s 3ms/step - loss: 0.0031\n",
            "Epoch 6/50\n",
            "299/299 [==============================] - 1s 3ms/step - loss: 0.0031\n",
            "Epoch 7/50\n",
            "299/299 [==============================] - 1s 3ms/step - loss: 0.0031\n",
            "Epoch 8/50\n",
            "299/299 [==============================] - 1s 3ms/step - loss: 0.0031\n",
            "Epoch 9/50\n",
            "299/299 [==============================] - 1s 3ms/step - loss: 0.0031\n",
            "Epoch 10/50\n",
            "299/299 [==============================] - 1s 4ms/step - loss: 0.0031\n",
            "Epoch 11/50\n",
            "299/299 [==============================] - 1s 4ms/step - loss: 0.0031\n",
            "Epoch 12/50\n",
            "299/299 [==============================] - 1s 3ms/step - loss: 0.0031\n",
            "Epoch 13/50\n",
            "299/299 [==============================] - 1s 2ms/step - loss: 0.0031\n",
            "Epoch 14/50\n",
            "299/299 [==============================] - 1s 3ms/step - loss: 0.0031\n",
            "Epoch 15/50\n",
            "299/299 [==============================] - 1s 2ms/step - loss: 0.0031\n",
            "Epoch 16/50\n",
            "299/299 [==============================] - 1s 3ms/step - loss: 0.0031\n",
            "Epoch 17/50\n",
            "299/299 [==============================] - 1s 3ms/step - loss: 0.0031\n",
            "Epoch 18/50\n",
            "299/299 [==============================] - 1s 3ms/step - loss: 0.0031\n",
            "Epoch 19/50\n",
            "299/299 [==============================] - 1s 3ms/step - loss: 0.0031\n",
            "Epoch 20/50\n",
            "299/299 [==============================] - 1s 3ms/step - loss: 0.0031\n",
            "Epoch 21/50\n",
            "299/299 [==============================] - 1s 3ms/step - loss: 0.0031\n",
            "Epoch 22/50\n",
            "299/299 [==============================] - 1s 3ms/step - loss: 0.0031\n",
            "Epoch 23/50\n",
            "299/299 [==============================] - 1s 3ms/step - loss: 0.0031\n",
            "Epoch 24/50\n",
            "299/299 [==============================] - 1s 3ms/step - loss: 0.0031\n",
            "Epoch 25/50\n",
            "299/299 [==============================] - 1s 4ms/step - loss: 0.0031\n",
            "Epoch 26/50\n",
            "299/299 [==============================] - 1s 4ms/step - loss: 0.0031\n",
            "Epoch 27/50\n",
            "299/299 [==============================] - 1s 3ms/step - loss: 0.0031\n",
            "Epoch 28/50\n",
            "299/299 [==============================] - 1s 2ms/step - loss: 0.0031\n",
            "Epoch 29/50\n",
            "299/299 [==============================] - 1s 2ms/step - loss: 0.0031\n",
            "Epoch 30/50\n",
            "299/299 [==============================] - 1s 3ms/step - loss: 0.0031\n",
            "Epoch 31/50\n",
            "299/299 [==============================] - 1s 4ms/step - loss: 0.0031\n",
            "Epoch 32/50\n",
            "299/299 [==============================] - 1s 4ms/step - loss: 0.0031\n",
            "Epoch 33/50\n",
            "299/299 [==============================] - 1s 5ms/step - loss: 0.0031\n",
            "Epoch 34/50\n",
            "299/299 [==============================] - 2s 7ms/step - loss: 0.0031\n",
            "Epoch 35/50\n",
            "299/299 [==============================] - 2s 8ms/step - loss: 0.0031\n",
            "Epoch 36/50\n",
            "299/299 [==============================] - 2s 7ms/step - loss: 0.0031\n",
            "Epoch 37/50\n",
            "299/299 [==============================] - 1s 4ms/step - loss: 0.0031\n",
            "Epoch 38/50\n",
            "299/299 [==============================] - 1s 5ms/step - loss: 0.0031\n",
            "Epoch 39/50\n",
            "299/299 [==============================] - 1s 5ms/step - loss: 0.0031\n",
            "Epoch 40/50\n",
            "299/299 [==============================] - 1s 4ms/step - loss: 0.0031\n",
            "Epoch 41/50\n",
            "299/299 [==============================] - 1s 4ms/step - loss: 0.0031\n",
            "Epoch 42/50\n",
            "299/299 [==============================] - 1s 4ms/step - loss: 0.0031\n",
            "Epoch 43/50\n",
            "299/299 [==============================] - 1s 4ms/step - loss: 0.0031\n",
            "Epoch 44/50\n",
            "299/299 [==============================] - 2s 5ms/step - loss: 0.0031\n",
            "Epoch 45/50\n",
            "299/299 [==============================] - 2s 8ms/step - loss: 0.0031\n",
            "Epoch 46/50\n",
            "299/299 [==============================] - 1s 4ms/step - loss: 0.0031\n",
            "Epoch 47/50\n",
            "299/299 [==============================] - 1s 5ms/step - loss: 0.0031\n",
            "Epoch 48/50\n",
            "299/299 [==============================] - 2s 5ms/step - loss: 0.0031\n",
            "Epoch 49/50\n",
            "299/299 [==============================] - 1s 5ms/step - loss: 0.0031\n",
            "Epoch 50/50\n",
            "299/299 [==============================] - 2s 6ms/step - loss: 0.0031\n"
          ]
        },
        {
          "output_type": "execute_result",
          "data": {
            "text/plain": [
              "<keras.callbacks.History at 0x7f15d5c44ee0>"
            ]
          },
          "metadata": {},
          "execution_count": 305
        }
      ]
    },
    {
      "cell_type": "code",
      "source": [
        "# Make predictions\n",
        "train_predict = model.predict(x_train)\n",
        "test_predict = model.predict(x_test)"
      ],
      "metadata": {
        "colab": {
          "base_uri": "https://localhost:8080/"
        },
        "id": "zZspNwKiS7WM",
        "outputId": "a3fe75f3-42b1-4e43-cfcd-5224233693d3"
      },
      "execution_count": null,
      "outputs": [
        {
          "output_type": "stream",
          "name": "stdout",
          "text": [
            "299/299 [==============================] - 1s 2ms/step\n",
            "34/34 [==============================] - 0s 2ms/step\n"
          ]
        }
      ]
    },
    {
      "cell_type": "code",
      "source": [
        "# Reshape the predicted outputs\n",
        "train_predict = train_predict.reshape(-1, 7)\n",
        "test_predict = test_predict.reshape(-1, 7)"
      ],
      "metadata": {
        "id": "zJzUivUuW0jq"
      },
      "execution_count": null,
      "outputs": []
    },
    {
      "cell_type": "code",
      "source": [
        "y_test"
      ],
      "metadata": {
        "colab": {
          "base_uri": "https://localhost:8080/"
        },
        "id": "pmuuUbSIXV5o",
        "outputId": "ccf8bdf0-f581-4322-b34a-c863e12fb9a3"
      },
      "execution_count": null,
      "outputs": [
        {
          "output_type": "execute_result",
          "data": {
            "text/plain": [
              "array([[0.01034372, 0.01153403, 0.00518135, ..., 0.00689061, 0.0194925 ,\n",
              "        0.01772298],\n",
              "       [0.01773209, 0.00530565, 0.00596981, ..., 0.00301464, 0.01807713,\n",
              "        0.01759925],\n",
              "       [0.01015098, 0.00622837, 0.00664564, ..., 0.00602929, 0.02596359,\n",
              "        0.02482241],\n",
              "       ...,\n",
              "       [0.00546097, 0.016609  , 0.00146429, ..., 0.0047373 , 0.02108338,\n",
              "        0.02019754],\n",
              "       [0.00636042, 0.01937716, 0.00202748, ..., 0.00387597, 0.01418203,\n",
              "        0.01606331],\n",
              "       [0.00359782, 0.00645905, 0.00225276, ..., 0.00215332, 0.00579736,\n",
              "        0.00571282]])"
            ]
          },
          "metadata": {},
          "execution_count": 309
        }
      ]
    },
    {
      "cell_type": "code",
      "source": [
        "# Inverse transform the predictions\n",
        "train_predict =result_scaler.inverse_transform(train_predict)\n",
        "y_train =result_scaler.inverse_transform(y_train)\n",
        "test_predict = result_scaler.inverse_transform(test_predict)\n",
        "y_test = result_scaler.inverse_transform(y_test)"
      ],
      "metadata": {
        "id": "OIBkVIg2S_qL"
      },
      "execution_count": null,
      "outputs": []
    },
    {
      "cell_type": "code",
      "source": [
        "print(y_test)"
      ],
      "metadata": {
        "id": "u6bZfAbVzOPz",
        "colab": {
          "base_uri": "https://localhost:8080/"
        },
        "outputId": "e83a4157-c6db-4ff8-b503-03ec4d84aa1f"
      },
      "execution_count": null,
      "outputs": [
        {
          "output_type": "stream",
          "name": "stdout",
          "text": [
            "[[1.610e+02 5.000e+01 4.600e+01 ... 1.600e+01 3.443e+03 4.154e+03]\n",
            " [2.760e+02 2.300e+01 5.300e+01 ... 7.000e+00 3.193e+03 4.125e+03]\n",
            " [1.580e+02 2.700e+01 5.900e+01 ... 1.400e+01 4.586e+03 5.818e+03]\n",
            " ...\n",
            " [8.500e+01 7.200e+01 1.300e+01 ... 1.100e+01 3.724e+03 4.734e+03]\n",
            " [9.900e+01 8.400e+01 1.800e+01 ... 9.000e+00 2.505e+03 3.765e+03]\n",
            " [5.600e+01 2.800e+01 2.000e+01 ... 5.000e+00 1.024e+03 1.339e+03]]\n"
          ]
        }
      ]
    },
    {
      "cell_type": "code",
      "source": [
        "print(int(test_predict[0][0]))"
      ],
      "metadata": {
        "id": "zrBBF52-zMCY",
        "colab": {
          "base_uri": "https://localhost:8080/"
        },
        "outputId": "7332409a-79fb-4b63-b348-284864a63f19"
      },
      "execution_count": null,
      "outputs": [
        {
          "output_type": "stream",
          "name": "stdout",
          "text": [
            "238\n"
          ]
        }
      ]
    },
    {
      "cell_type": "code",
      "source": [
        "# Evaluate the model\n",
        "train_score = np.sqrt(np.mean((train_predict - y_train) ** 2))\n",
        "test_score = np.sqrt(np.mean((test_predict - y_test) ** 2))\n",
        "print(f'Train Score: {train_score:.2f} RMSE')\n",
        "print(f'Test Score: {test_score:.2f} RMSE')"
      ],
      "metadata": {
        "colab": {
          "base_uri": "https://localhost:8080/"
        },
        "id": "jhA9z7BFSt5X",
        "outputId": "e7878ebe-8e82-443e-ba50-925ddc54f61c"
      },
      "execution_count": null,
      "outputs": [
        {
          "output_type": "stream",
          "name": "stdout",
          "text": [
            "Train Score: 8912.03 RMSE\n",
            "Test Score: 7633.61 RMSE\n"
          ]
        }
      ]
    },
    {
      "cell_type": "code",
      "source": [
        "model.save('crime_predict.h5')"
      ],
      "metadata": {
        "id": "pIAHqOc_5ShJ"
      },
      "execution_count": null,
      "outputs": []
    },
    {
      "cell_type": "code",
      "source": [],
      "metadata": {
        "id": "Dawv1cxe3_YI"
      },
      "execution_count": null,
      "outputs": []
    },
    {
      "cell_type": "code",
      "source": [],
      "metadata": {
        "id": "-VzaL-DK3_MT"
      },
      "execution_count": null,
      "outputs": []
    },
    {
      "cell_type": "code",
      "source": [],
      "metadata": {
        "id": "7x8sM3CF3-_G"
      },
      "execution_count": null,
      "outputs": []
    },
    {
      "cell_type": "code",
      "execution_count": null,
      "metadata": {
        "id": "LyQ6YdAocgVO"
      },
      "outputs": [],
      "source": [
        "# Perform clustering on crime hotspots\n",
        "kmeans = KMeans(n_clusters=5)  # Adjust the number of clusters as needed\n",
        "kmeans.fit(predictions)"
      ]
    },
    {
      "cell_type": "code",
      "execution_count": null,
      "metadata": {
        "id": "gohMgfIbcWvc"
      },
      "outputs": [],
      "source": [
        "# Retrieve cluster labels for each prediction\n",
        "cluster_labels = kmeans.labels_"
      ]
    },
    {
      "cell_type": "code",
      "execution_count": null,
      "metadata": {
        "id": "nf48Z3R5bwAH"
      },
      "outputs": [],
      "source": [
        "# Print the cluster labels and corresponding crime counts\n",
        "for label, count in zip(cluster_labels, predictions):\n",
        "    print(f\"Cluster: {label}, Crime Count: {count}\")\n"
      ]
    }
  ],
  "metadata": {
    "colab": {
      "provenance": []
    },
    "kernelspec": {
      "display_name": "Python 3",
      "name": "python3"
    },
    "language_info": {
      "name": "python"
    }
  },
  "nbformat": 4,
  "nbformat_minor": 0
}